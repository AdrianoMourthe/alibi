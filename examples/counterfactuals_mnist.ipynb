{
 "cells": [
  {
   "cell_type": "code",
   "execution_count": null,
   "metadata": {},
   "outputs": [],
   "source": []
  },
  {
   "cell_type": "code",
   "execution_count": 3,
   "metadata": {},
   "outputs": [
    {
     "name": "stderr",
     "output_type": "stream",
     "text": [
      "DEBUG:matplotlib.pyplot:Loaded backend module://ipykernel.pylab.backend_inline version unknown.\n"
     ]
    }
   ],
   "source": [
    "import sys\n",
    "#sys.path.append('../alibi/explainers/counterfactual/')\n",
    "import logging\n",
    "logging.basicConfig(level=logging.DEBUG)\n",
    "import pandas as pd\n",
    "import numpy as np\n",
    "from scipy.spatial.distance import cityblock\n",
    "from scipy.optimize import minimize\n",
    "from sklearn import svm, datasets\n",
    "from sklearn.model_selection import cross_val_score\n",
    "from alibi.explainers import CounterFactualAdversarialSearch\n",
    "from matplotlib.pyplot import imshow\n",
    "import importlib\n",
    "#sys.path.append('../alibi/explainers/counterfactual/')\n",
    "#import cf_adversarial as counterfactuals\n",
    "%matplotlib inline"
   ]
  },
  {
   "cell_type": "markdown",
   "metadata": {},
   "source": [
    "---"
   ]
  },
  {
   "cell_type": "markdown",
   "metadata": {},
   "source": [
    "# Mnist"
   ]
  },
  {
   "cell_type": "code",
   "execution_count": 4,
   "metadata": {},
   "outputs": [
    {
     "data": {
      "text/plain": [
       "<matplotlib.image.AxesImage at 0x1c356a94e0>"
      ]
     },
     "execution_count": 4,
     "metadata": {},
     "output_type": "execute_result"
    },
    {
     "name": "stderr",
     "output_type": "stream",
     "text": [
      "WARNING: Logging before flag parsing goes to stderr.\n",
      "I0408 14:29:04.217362 140735836812160 _base.py:2515] update_title_pos\n",
      "I0408 14:29:04.231672 140735836812160 font_manager.py:1254] findfont: Matching :family=sans-serif:style=normal:variant=normal:weight=normal:stretch=normal:size=10.0 to DejaVu Sans ('/Users/Gigio/anaconda3/lib/python3.7/site-packages/matplotlib/mpl-data/fonts/ttf/DejaVuSans.ttf') with score of 0.050000.\n",
      "I0408 14:29:04.257077 140735836812160 _base.py:2515] update_title_pos\n",
      "I0408 14:29:04.285659 140735836812160 _base.py:2515] update_title_pos\n",
      "I0408 14:29:04.311816 140735836812160 _base.py:2515] update_title_pos\n",
      "I0408 14:29:04.327574 140735836812160 _base.py:2515] update_title_pos\n"
     ]
    },
    {
     "data": {
      "image/png": "[encoded data removed]",
      "text/plain": [
       "<Figure size 432x288 with 1 Axes>"
      ]
     },
     "metadata": {
      "needs_background": "light"
     },
     "output_type": "display_data"
    }
   ],
   "source": [
    "import tensorflow as tf\n",
    "(x_train, y_train), (x_test, y_test) = tf.keras.datasets.mnist.load_data()\n",
    "imshow(x_train[0],cmap='Greys')"
   ]
  },
  {
   "cell_type": "code",
   "execution_count": 5,
   "metadata": {},
   "outputs": [
    {
     "name": "stderr",
     "output_type": "stream",
     "text": [
      "W0408 14:29:07.074733 140735836812160 deprecation.py:506] From /Users/Gigio/anaconda3/lib/python3.7/site-packages/tensorflow/python/ops/init_ops.py:1257: calling VarianceScaling.__init__ (from tensorflow.python.ops.init_ops) with dtype is deprecated and will be removed in a future version.\n",
      "Instructions for updating:\n",
      "Call initializer instance with the dtype argument instead of passing it to the constructor\n"
     ]
    },
    {
     "name": "stdout",
     "output_type": "stream",
     "text": [
      "x_train shape: (60000, 28, 28, 1)\n",
      "Number of images in x_train 60000\n",
      "Number of images in x_test 10000\n"
     ]
    }
   ],
   "source": [
    "x_train = x_train.reshape(x_train.shape[0], 28, 28, 1)\n",
    "x_test = x_test.reshape(x_test.shape[0], 28, 28, 1)\n",
    "input_shape = (28, 28, 1)\n",
    "# Making sure that the values are float so that we can get decimal points after division\n",
    "x_train = x_train.astype('float32')\n",
    "x_test = x_test.astype('float32')\n",
    "# Normalizing the RGB codes by dividing it to the max RGB value.\n",
    "x_train /= 255\n",
    "x_test /= 255\n",
    "print('x_train shape:', x_train.shape)\n",
    "print('Number of images in x_train', x_train.shape[0])\n",
    "print('Number of images in x_test', x_test.shape[0])\n",
    "initial_instace = np.random.permutation(x_train)[:1]\n",
    "\n",
    "input = tf.keras.Input(shape=(28,28,1),name='input_part')\n",
    "out=tf.keras.layers.Conv2D(32, (5, 5), activation='relu')(input)\n",
    "out=tf.keras.layers.MaxPooling2D(pool_size=(2, 2))(out)\n",
    "out=tf.keras.layers.Dropout(0.2)(out)\n",
    "out=tf.keras.layers.Flatten()(out)\n",
    "out=tf.keras.layers.Dense(128, activation='relu')(out)\n",
    "out=tf.keras.layers.Dense(10,activation='softmax')(out)\n",
    "\n",
    "model = tf.keras.Model(input, out)\n",
    "\n",
    "model.compile(loss='categorical_crossentropy', optimizer='adam', metrics=['accuracy'])"
   ]
  },
  {
   "cell_type": "code",
   "execution_count": 6,
   "metadata": {},
   "outputs": [
    {
     "name": "stdout",
     "output_type": "stream",
     "text": [
      "Epoch 1/2\n",
      "60000/60000 [==============================] - 16s 274us/sample - loss: 0.1352 - acc: 0.9606\n",
      "Epoch 2/2\n",
      "60000/60000 [==============================] - 19s 323us/sample - loss: 0.0493 - acc: 0.9847\n"
     ]
    },
    {
     "data": {
      "text/plain": [
       "<tensorflow.python.keras.callbacks.History at 0x1c227ee828>"
      ]
     },
     "execution_count": 6,
     "metadata": {},
     "output_type": "execute_result"
    }
   ],
   "source": [
    "model.fit(x_train,tf.keras.utils.to_categorical(y_train),epochs=2)"
   ]
  },
  {
   "cell_type": "markdown",
   "metadata": {},
   "source": [
    "### Minimization"
   ]
  },
  {
   "cell_type": "code",
   "execution_count": 7,
   "metadata": {},
   "outputs": [
    {
     "data": {
      "text/plain": [
       "(28, 28, 1)"
      ]
     },
     "execution_count": 7,
     "metadata": {},
     "output_type": "execute_result"
    }
   ],
   "source": [
    "X=x_train[54]\n",
    "X.shape"
   ]
  },
  {
   "cell_type": "code",
   "execution_count": 19,
   "metadata": {},
   "outputs": [],
   "source": [
    "import alibi.explainers.counterfactual.cf_adversarial as counterfactuals"
   ]
  },
  {
   "cell_type": "code",
   "execution_count": 124,
   "metadata": {},
   "outputs": [
    {
     "data": {
      "text/plain": [
       "<module 'alibi.explainers.counterfactual.cf_adversarial' from '/Users/Gigio/Desktop/git/fork-alibi/alibi/explainers/counterfactual/cf_adversarial.py'>"
      ]
     },
     "execution_count": 124,
     "metadata": {},
     "output_type": "execute_result"
    }
   ],
   "source": [
    "importlib.reload(counterfactuals)"
   ]
  },
  {
   "cell_type": "code",
   "execution_count": null,
   "metadata": {},
   "outputs": [],
   "source": []
  },
  {
   "cell_type": "code",
   "execution_count": 125,
   "metadata": {},
   "outputs": [
    {
     "data": {
      "text/plain": [
       "array([[1.1420827e-10, 1.0617840e-07, 6.9988083e-08, 1.0176440e-05,\n",
       "        1.2435452e-02, 9.8999976e-07, 1.7569269e-12, 4.3955473e-03,\n",
       "        9.2290936e-04, 9.8223478e-01]], dtype=float32)"
      ]
     },
     "execution_count": 125,
     "metadata": {},
     "output_type": "execute_result"
    }
   ],
   "source": [
    "model.predict(X.reshape((1,)+X.shape))"
   ]
  },
  {
   "cell_type": "code",
   "execution_count": 126,
   "metadata": {},
   "outputs": [
    {
     "data": {
      "text/plain": [
       "9"
      ]
     },
     "execution_count": 126,
     "metadata": {},
     "output_type": "execute_result"
    }
   ],
   "source": [
    "np.argmax(model.predict(X.reshape((1,)+X.shape)))"
   ]
  },
  {
   "cell_type": "code",
   "execution_count": 127,
   "metadata": {},
   "outputs": [],
   "source": [
    "import logging\n",
    "logger = logging.getLogger()\n",
    "logger.setLevel(logging.DEBUG)\n",
    "cf = counterfactuals.CounterFactualAdversarialSearch(model.predict,\n",
    "                                                     target_class=4,target_probability=1.0,\n",
    "                                                     maxiter=200, initial_lam=0, final_lam=0.01, lam_how='adiabatic',\n",
    "                                                    lr=10)\n",
    "cf.fit(x_train,y_train)"
   ]
  },
  {
   "cell_type": "code",
   "execution_count": 132,
   "metadata": {
    "scrolled": true
   },
   "outputs": [
    {
     "name": "stderr",
     "output_type": "stream",
     "text": [
      "I0408 15:14:34.109055 140735836812160 cf_adversarial.py:263] Starting minimization\n",
      "I0408 15:14:34.269900 140735836812160 cf_adversarial.py:103] Target class: 4\n",
      "I0408 15:14:34.273211 140735836812160 cf_adversarial.py:104] Proba: 1.0\n"
     ]
    },
    {
     "name": "stdout",
     "output_type": "stream",
     "text": [
      "init is none\n"
     ]
    },
    {
     "name": "stderr",
     "output_type": "stream",
     "text": [
      "I0408 15:14:34.432443 140735836812160 cf_adversarial.py:103] Target class: 4\n",
      "I0408 15:14:34.436082 140735836812160 cf_adversarial.py:104] Proba: 1.0\n",
      "I0408 15:14:34.598999 140735836812160 cf_adversarial.py:103] Target class: 4\n",
      "I0408 15:14:34.601943 140735836812160 cf_adversarial.py:104] Proba: 1.0\n",
      "I0408 15:14:34.761479 140735836812160 cf_adversarial.py:103] Target class: 4\n",
      "I0408 15:14:34.764475 140735836812160 cf_adversarial.py:104] Proba: 1.0\n",
      "I0408 15:14:34.920355 140735836812160 cf_adversarial.py:103] Target class: 4\n",
      "I0408 15:14:34.923579 140735836812160 cf_adversarial.py:104] Proba: 1.0\n",
      "I0408 15:14:35.078097 140735836812160 cf_adversarial.py:103] Target class: 4\n",
      "I0408 15:14:35.081321 140735836812160 cf_adversarial.py:104] Proba: 1.0\n",
      "I0408 15:14:35.237734 140735836812160 cf_adversarial.py:103] Target class: 4\n",
      "I0408 15:14:35.240962 140735836812160 cf_adversarial.py:104] Proba: 1.0\n",
      "I0408 15:14:35.396411 140735836812160 cf_adversarial.py:103] Target class: 4\n",
      "I0408 15:14:35.399405 140735836812160 cf_adversarial.py:104] Proba: 1.0\n",
      "I0408 15:14:35.552784 140735836812160 cf_adversarial.py:103] Target class: 4\n",
      "I0408 15:14:35.556052 140735836812160 cf_adversarial.py:104] Proba: 1.0\n",
      "I0408 15:14:35.712954 140735836812160 cf_adversarial.py:103] Target class: 4\n",
      "I0408 15:14:35.716282 140735836812160 cf_adversarial.py:104] Proba: 1.0\n",
      "I0408 15:14:35.869077 140735836812160 cf_adversarial.py:103] Target class: 4\n",
      "I0408 15:14:35.872370 140735836812160 cf_adversarial.py:104] Proba: 1.0\n",
      "I0408 15:14:36.024064 140735836812160 cf_adversarial.py:103] Target class: 4\n",
      "I0408 15:14:36.027251 140735836812160 cf_adversarial.py:104] Proba: 1.0\n",
      "I0408 15:14:36.180278 140735836812160 cf_adversarial.py:103] Target class: 4\n",
      "I0408 15:14:36.183716 140735836812160 cf_adversarial.py:104] Proba: 1.0\n",
      "I0408 15:14:36.337399 140735836812160 cf_adversarial.py:103] Target class: 4\n",
      "I0408 15:14:36.340138 140735836812160 cf_adversarial.py:104] Proba: 1.0\n",
      "I0408 15:14:36.493656 140735836812160 cf_adversarial.py:103] Target class: 4\n",
      "I0408 15:14:36.497039 140735836812160 cf_adversarial.py:104] Proba: 1.0\n",
      "I0408 15:14:36.652470 140735836812160 cf_adversarial.py:103] Target class: 4\n",
      "I0408 15:14:36.655758 140735836812160 cf_adversarial.py:104] Proba: 1.0\n",
      "I0408 15:14:36.809458 140735836812160 cf_adversarial.py:103] Target class: 4\n",
      "I0408 15:14:36.813067 140735836812160 cf_adversarial.py:104] Proba: 1.0\n",
      "I0408 15:14:36.970263 140735836812160 cf_adversarial.py:103] Target class: 4\n",
      "I0408 15:14:36.973006 140735836812160 cf_adversarial.py:104] Proba: 1.0\n",
      "I0408 15:14:37.125488 140735836812160 cf_adversarial.py:103] Target class: 4\n",
      "I0408 15:14:37.128534 140735836812160 cf_adversarial.py:104] Proba: 1.0\n",
      "I0408 15:14:37.283069 140735836812160 cf_adversarial.py:103] Target class: 4\n",
      "I0408 15:14:37.286411 140735836812160 cf_adversarial.py:104] Proba: 1.0\n",
      "I0408 15:14:37.442353 140735836812160 cf_adversarial.py:103] Target class: 4\n",
      "I0408 15:14:37.445505 140735836812160 cf_adversarial.py:104] Proba: 1.0\n",
      "I0408 15:14:37.605370 140735836812160 cf_adversarial.py:103] Target class: 4\n",
      "I0408 15:14:37.608083 140735836812160 cf_adversarial.py:104] Proba: 1.0\n",
      "I0408 15:14:37.765199 140735836812160 cf_adversarial.py:103] Target class: 4\n",
      "I0408 15:14:37.768383 140735836812160 cf_adversarial.py:104] Proba: 1.0\n",
      "I0408 15:14:37.925736 140735836812160 cf_adversarial.py:103] Target class: 4\n",
      "I0408 15:14:37.929849 140735836812160 cf_adversarial.py:104] Proba: 1.0\n",
      "I0408 15:14:38.089161 140735836812160 cf_adversarial.py:103] Target class: 4\n",
      "I0408 15:14:38.092370 140735836812160 cf_adversarial.py:104] Proba: 1.0\n",
      "I0408 15:14:38.251795 140735836812160 cf_adversarial.py:103] Target class: 4\n",
      "I0408 15:14:38.254628 140735836812160 cf_adversarial.py:104] Proba: 1.0\n",
      "I0408 15:14:38.416698 140735836812160 cf_adversarial.py:103] Target class: 4\n",
      "I0408 15:14:38.420560 140735836812160 cf_adversarial.py:104] Proba: 1.0\n",
      "I0408 15:14:38.575986 140735836812160 cf_adversarial.py:103] Target class: 4\n",
      "I0408 15:14:38.579130 140735836812160 cf_adversarial.py:104] Proba: 1.0\n",
      "I0408 15:14:38.739127 140735836812160 cf_adversarial.py:103] Target class: 4\n",
      "I0408 15:14:38.742511 140735836812160 cf_adversarial.py:104] Proba: 1.0\n",
      "I0408 15:14:38.908461 140735836812160 cf_adversarial.py:103] Target class: 4\n",
      "I0408 15:14:38.911922 140735836812160 cf_adversarial.py:104] Proba: 1.0\n",
      "I0408 15:14:39.075221 140735836812160 cf_adversarial.py:103] Target class: 4\n",
      "I0408 15:14:39.078149 140735836812160 cf_adversarial.py:104] Proba: 1.0\n",
      "I0408 15:14:39.244596 140735836812160 cf_adversarial.py:103] Target class: 4\n",
      "I0408 15:14:39.248606 140735836812160 cf_adversarial.py:104] Proba: 1.0\n",
      "I0408 15:14:39.415227 140735836812160 cf_adversarial.py:103] Target class: 4\n",
      "I0408 15:14:39.418398 140735836812160 cf_adversarial.py:104] Proba: 1.0\n",
      "I0408 15:14:39.587455 140735836812160 cf_adversarial.py:103] Target class: 4\n",
      "I0408 15:14:39.590478 140735836812160 cf_adversarial.py:104] Proba: 1.0\n",
      "I0408 15:14:39.762640 140735836812160 cf_adversarial.py:103] Target class: 4\n",
      "I0408 15:14:39.765727 140735836812160 cf_adversarial.py:104] Proba: 1.0\n",
      "I0408 15:14:39.941178 140735836812160 cf_adversarial.py:103] Target class: 4\n",
      "I0408 15:14:39.944299 140735836812160 cf_adversarial.py:104] Proba: 1.0\n",
      "I0408 15:14:40.130321 140735836812160 cf_adversarial.py:103] Target class: 4\n",
      "I0408 15:14:40.133353 140735836812160 cf_adversarial.py:104] Proba: 1.0\n",
      "I0408 15:14:40.315325 140735836812160 cf_adversarial.py:103] Target class: 4\n",
      "I0408 15:14:40.318957 140735836812160 cf_adversarial.py:104] Proba: 1.0\n",
      "I0408 15:14:40.502926 140735836812160 cf_adversarial.py:103] Target class: 4\n",
      "I0408 15:14:40.506766 140735836812160 cf_adversarial.py:104] Proba: 1.0\n",
      "I0408 15:14:40.691855 140735836812160 cf_adversarial.py:103] Target class: 4\n",
      "I0408 15:14:40.695342 140735836812160 cf_adversarial.py:104] Proba: 1.0\n",
      "I0408 15:14:40.889660 140735836812160 cf_adversarial.py:103] Target class: 4\n",
      "I0408 15:14:40.892908 140735836812160 cf_adversarial.py:104] Proba: 1.0\n",
      "I0408 15:14:41.084490 140735836812160 cf_adversarial.py:103] Target class: 4\n",
      "I0408 15:14:41.088045 140735836812160 cf_adversarial.py:104] Proba: 1.0\n",
      "I0408 15:14:41.279752 140735836812160 cf_adversarial.py:103] Target class: 4\n",
      "I0408 15:14:41.282998 140735836812160 cf_adversarial.py:104] Proba: 1.0\n",
      "I0408 15:14:41.477999 140735836812160 cf_adversarial.py:103] Target class: 4\n",
      "I0408 15:14:41.481292 140735836812160 cf_adversarial.py:104] Proba: 1.0\n",
      "I0408 15:14:41.677469 140735836812160 cf_adversarial.py:103] Target class: 4\n",
      "I0408 15:14:41.680774 140735836812160 cf_adversarial.py:104] Proba: 1.0\n",
      "I0408 15:14:41.880755 140735836812160 cf_adversarial.py:103] Target class: 4\n",
      "I0408 15:14:41.884164 140735836812160 cf_adversarial.py:104] Proba: 1.0\n",
      "I0408 15:14:42.085616 140735836812160 cf_adversarial.py:103] Target class: 4\n",
      "I0408 15:14:42.089341 140735836812160 cf_adversarial.py:104] Proba: 1.0\n",
      "I0408 15:14:42.289808 140735836812160 cf_adversarial.py:103] Target class: 4\n",
      "I0408 15:14:42.293221 140735836812160 cf_adversarial.py:104] Proba: 1.0\n",
      "I0408 15:14:42.497020 140735836812160 cf_adversarial.py:103] Target class: 4\n",
      "I0408 15:14:42.500361 140735836812160 cf_adversarial.py:104] Proba: 1.0\n",
      "I0408 15:14:42.709124 140735836812160 cf_adversarial.py:103] Target class: 4\n",
      "I0408 15:14:42.712870 140735836812160 cf_adversarial.py:104] Proba: 1.0\n",
      "I0408 15:14:42.920410 140735836812160 cf_adversarial.py:103] Target class: 4\n",
      "I0408 15:14:42.923759 140735836812160 cf_adversarial.py:104] Proba: 1.0\n",
      "I0408 15:14:43.133796 140735836812160 cf_adversarial.py:103] Target class: 4\n",
      "I0408 15:14:43.137320 140735836812160 cf_adversarial.py:104] Proba: 1.0\n",
      "I0408 15:14:43.347795 140735836812160 cf_adversarial.py:103] Target class: 4\n",
      "I0408 15:14:43.351868 140735836812160 cf_adversarial.py:104] Proba: 1.0\n",
      "I0408 15:14:43.564720 140735836812160 cf_adversarial.py:103] Target class: 4\n",
      "I0408 15:14:43.568855 140735836812160 cf_adversarial.py:104] Proba: 1.0\n",
      "I0408 15:14:43.783204 140735836812160 cf_adversarial.py:103] Target class: 4\n",
      "I0408 15:14:43.786699 140735836812160 cf_adversarial.py:104] Proba: 1.0\n",
      "I0408 15:14:44.010653 140735836812160 cf_adversarial.py:103] Target class: 4\n",
      "I0408 15:14:44.015017 140735836812160 cf_adversarial.py:104] Proba: 1.0\n"
     ]
    },
    {
     "name": "stderr",
     "output_type": "stream",
     "text": [
      "I0408 15:14:44.233182 140735836812160 cf_adversarial.py:103] Target class: 4\n",
      "I0408 15:14:44.237456 140735836812160 cf_adversarial.py:104] Proba: 1.0\n",
      "I0408 15:14:44.451136 140735836812160 cf_adversarial.py:103] Target class: 4\n",
      "I0408 15:14:44.455049 140735836812160 cf_adversarial.py:104] Proba: 1.0\n",
      "I0408 15:14:44.669070 140735836812160 cf_adversarial.py:103] Target class: 4\n",
      "I0408 15:14:44.673414 140735836812160 cf_adversarial.py:104] Proba: 1.0\n",
      "I0408 15:14:44.896901 140735836812160 cf_adversarial.py:103] Target class: 4\n",
      "I0408 15:14:44.900536 140735836812160 cf_adversarial.py:104] Proba: 1.0\n",
      "I0408 15:14:45.114968 140735836812160 cf_adversarial.py:103] Target class: 4\n",
      "I0408 15:14:45.118443 140735836812160 cf_adversarial.py:104] Proba: 1.0\n",
      "I0408 15:14:45.338541 140735836812160 cf_adversarial.py:103] Target class: 4\n",
      "I0408 15:14:45.342329 140735836812160 cf_adversarial.py:104] Proba: 1.0\n",
      "I0408 15:14:45.557037 140735836812160 cf_adversarial.py:103] Target class: 4\n",
      "I0408 15:14:45.560569 140735836812160 cf_adversarial.py:104] Proba: 1.0\n",
      "I0408 15:14:45.777452 140735836812160 cf_adversarial.py:103] Target class: 4\n",
      "I0408 15:14:45.781663 140735836812160 cf_adversarial.py:104] Proba: 1.0\n",
      "I0408 15:14:46.001141 140735836812160 cf_adversarial.py:103] Target class: 4\n",
      "I0408 15:14:46.004815 140735836812160 cf_adversarial.py:104] Proba: 1.0\n",
      "I0408 15:14:46.229117 140735836812160 cf_adversarial.py:103] Target class: 4\n",
      "I0408 15:14:46.233373 140735836812160 cf_adversarial.py:104] Proba: 1.0\n",
      "I0408 15:14:46.464858 140735836812160 cf_adversarial.py:103] Target class: 4\n",
      "I0408 15:14:46.468553 140735836812160 cf_adversarial.py:104] Proba: 1.0\n",
      "I0408 15:14:46.691751 140735836812160 cf_adversarial.py:103] Target class: 4\n",
      "I0408 15:14:46.695436 140735836812160 cf_adversarial.py:104] Proba: 1.0\n",
      "I0408 15:14:46.920401 140735836812160 cf_adversarial.py:103] Target class: 4\n",
      "I0408 15:14:46.924378 140735836812160 cf_adversarial.py:104] Proba: 1.0\n",
      "I0408 15:14:47.149590 140735836812160 cf_adversarial.py:103] Target class: 4\n",
      "I0408 15:14:47.153199 140735836812160 cf_adversarial.py:104] Proba: 1.0\n",
      "I0408 15:14:47.377968 140735836812160 cf_adversarial.py:103] Target class: 4\n",
      "I0408 15:14:47.381556 140735836812160 cf_adversarial.py:104] Proba: 1.0\n",
      "I0408 15:14:47.604706 140735836812160 cf_adversarial.py:103] Target class: 4\n",
      "I0408 15:14:47.608280 140735836812160 cf_adversarial.py:104] Proba: 1.0\n",
      "I0408 15:14:47.832372 140735836812160 cf_adversarial.py:103] Target class: 4\n",
      "I0408 15:14:47.836470 140735836812160 cf_adversarial.py:104] Proba: 1.0\n",
      "I0408 15:14:48.059965 140735836812160 cf_adversarial.py:103] Target class: 4\n",
      "I0408 15:14:48.063501 140735836812160 cf_adversarial.py:104] Proba: 0.9999998807907104\n",
      "I0408 15:14:48.287446 140735836812160 cf_adversarial.py:103] Target class: 4\n",
      "I0408 15:14:48.291189 140735836812160 cf_adversarial.py:104] Proba: 0.9999995231628418\n",
      "I0408 15:14:48.514802 140735836812160 cf_adversarial.py:103] Target class: 4\n",
      "I0408 15:14:48.518499 140735836812160 cf_adversarial.py:104] Proba: 0.9999985694885254\n",
      "I0408 15:14:48.741673 140735836812160 cf_adversarial.py:103] Target class: 4\n",
      "I0408 15:14:48.745413 140735836812160 cf_adversarial.py:104] Proba: 0.9999943971633911\n",
      "I0408 15:14:48.969013 140735836812160 cf_adversarial.py:103] Target class: 4\n",
      "I0408 15:14:48.972720 140735836812160 cf_adversarial.py:104] Proba: 0.9999749660491943\n",
      "I0408 15:14:49.194797 140735836812160 cf_adversarial.py:103] Target class: 4\n",
      "I0408 15:14:49.198408 140735836812160 cf_adversarial.py:104] Proba: 0.999884843826294\n",
      "I0408 15:14:49.421607 140735836812160 cf_adversarial.py:103] Target class: 4\n",
      "I0408 15:14:49.425254 140735836812160 cf_adversarial.py:104] Proba: 0.9994682669639587\n",
      "I0408 15:14:49.650196 140735836812160 cf_adversarial.py:103] Target class: 4\n",
      "I0408 15:14:49.653775 140735836812160 cf_adversarial.py:104] Proba: 0.9974935054779053\n",
      "I0408 15:14:49.877307 140735836812160 cf_adversarial.py:103] Target class: 4\n",
      "I0408 15:14:49.880980 140735836812160 cf_adversarial.py:104] Proba: 0.9892237186431885\n",
      "I0408 15:14:50.105466 140735836812160 cf_adversarial.py:103] Target class: 4\n",
      "I0408 15:14:50.109074 140735836812160 cf_adversarial.py:104] Proba: 0.9808130860328674\n",
      "I0408 15:14:50.334183 140735836812160 cf_adversarial.py:103] Target class: 4\n",
      "I0408 15:14:50.337817 140735836812160 cf_adversarial.py:104] Proba: 0.9848695993423462\n",
      "I0408 15:14:50.561940 140735836812160 cf_adversarial.py:103] Target class: 4\n",
      "I0408 15:14:50.565605 140735836812160 cf_adversarial.py:104] Proba: 0.9674014449119568\n",
      "I0408 15:14:50.789267 140735836812160 cf_adversarial.py:103] Target class: 4\n",
      "I0408 15:14:50.792906 140735836812160 cf_adversarial.py:104] Proba: 0.9939782619476318\n",
      "I0408 15:14:51.017701 140735836812160 cf_adversarial.py:103] Target class: 4\n",
      "I0408 15:14:51.021378 140735836812160 cf_adversarial.py:104] Proba: 0.9076998233795166\n",
      "I0408 15:14:51.246912 140735836812160 cf_adversarial.py:103] Target class: 4\n",
      "I0408 15:14:51.250487 140735836812160 cf_adversarial.py:104] Proba: 0.9999966621398926\n",
      "I0408 15:14:51.476180 140735836812160 cf_adversarial.py:103] Target class: 4\n",
      "I0408 15:14:51.479850 140735836812160 cf_adversarial.py:104] Proba: 0.9998692274093628\n",
      "I0408 15:14:51.704490 140735836812160 cf_adversarial.py:103] Target class: 4\n",
      "I0408 15:14:51.708122 140735836812160 cf_adversarial.py:104] Proba: 0.9953824877738953\n",
      "I0408 15:14:51.931791 140735836812160 cf_adversarial.py:103] Target class: 4\n",
      "I0408 15:14:51.935431 140735836812160 cf_adversarial.py:104] Proba: 0.906200647354126\n",
      "I0408 15:14:52.161988 140735836812160 cf_adversarial.py:103] Target class: 4\n",
      "I0408 15:14:52.165652 140735836812160 cf_adversarial.py:104] Proba: 0.9999967813491821\n",
      "I0408 15:14:52.389513 140735836812160 cf_adversarial.py:103] Target class: 4\n",
      "I0408 15:14:52.393620 140735836812160 cf_adversarial.py:104] Proba: 0.9998584985733032\n",
      "I0408 15:14:52.617999 140735836812160 cf_adversarial.py:103] Target class: 4\n",
      "I0408 15:14:52.621587 140735836812160 cf_adversarial.py:104] Proba: 0.9945787191390991\n",
      "I0408 15:14:52.846354 140735836812160 cf_adversarial.py:103] Target class: 4\n",
      "I0408 15:14:52.849965 140735836812160 cf_adversarial.py:104] Proba: 0.897117555141449\n",
      "I0408 15:14:53.075777 140735836812160 cf_adversarial.py:103] Target class: 4\n",
      "I0408 15:14:53.079461 140735836812160 cf_adversarial.py:104] Proba: 0.9999988079071045\n",
      "I0408 15:14:53.307712 140735836812160 cf_adversarial.py:103] Target class: 4\n",
      "I0408 15:14:53.312037 140735836812160 cf_adversarial.py:104] Proba: 0.999946117401123\n",
      "I0408 15:14:53.536586 140735836812160 cf_adversarial.py:103] Target class: 4\n",
      "I0408 15:14:53.540246 140735836812160 cf_adversarial.py:104] Proba: 0.9974959492683411\n",
      "I0408 15:14:53.765815 140735836812160 cf_adversarial.py:103] Target class: 4\n",
      "I0408 15:14:53.769562 140735836812160 cf_adversarial.py:104] Proba: 0.9241563677787781\n",
      "I0408 15:14:53.997278 140735836812160 cf_adversarial.py:103] Target class: 4\n",
      "I0408 15:14:54.000936 140735836812160 cf_adversarial.py:104] Proba: 0.9999634027481079\n",
      "I0408 15:14:54.228334 140735836812160 cf_adversarial.py:103] Target class: 4\n",
      "I0408 15:14:54.231960 140735836812160 cf_adversarial.py:104] Proba: 0.9977116584777832\n",
      "I0408 15:14:54.463667 140735836812160 cf_adversarial.py:103] Target class: 4\n",
      "I0408 15:14:54.467519 140735836812160 cf_adversarial.py:104] Proba: 0.9151783585548401\n",
      "I0408 15:14:54.707962 140735836812160 cf_adversarial.py:103] Target class: 4\n",
      "I0408 15:14:54.711740 140735836812160 cf_adversarial.py:104] Proba: 0.9999880790710449\n",
      "I0408 15:14:54.954266 140735836812160 cf_adversarial.py:103] Target class: 4\n",
      "I0408 15:14:54.957931 140735836812160 cf_adversarial.py:104] Proba: 0.9991024732589722\n",
      "I0408 15:14:55.197022 140735836812160 cf_adversarial.py:103] Target class: 4\n",
      "I0408 15:14:55.200656 140735836812160 cf_adversarial.py:104] Proba: 0.9545319080352783\n",
      "I0408 15:14:55.439834 140735836812160 cf_adversarial.py:103] Target class: 4\n",
      "I0408 15:14:55.443575 140735836812160 cf_adversarial.py:104] Proba: 0.9975415468215942\n",
      "I0408 15:14:55.680494 140735836812160 cf_adversarial.py:103] Target class: 4\n",
      "I0408 15:14:55.684267 140735836812160 cf_adversarial.py:104] Proba: 0.8901564478874207\n",
      "I0408 15:14:55.921546 140735836812160 cf_adversarial.py:103] Target class: 4\n",
      "I0408 15:14:55.925311 140735836812160 cf_adversarial.py:104] Proba: 0.9999995231628418\n"
     ]
    },
    {
     "name": "stderr",
     "output_type": "stream",
     "text": [
      "I0408 15:14:56.162927 140735836812160 cf_adversarial.py:103] Target class: 4\n",
      "I0408 15:14:56.166736 140735836812160 cf_adversarial.py:104] Proba: 0.9999563694000244\n",
      "I0408 15:14:56.397831 140735836812160 cf_adversarial.py:103] Target class: 4\n",
      "I0408 15:14:56.401680 140735836812160 cf_adversarial.py:104] Proba: 0.9966756105422974\n",
      "I0408 15:14:56.633808 140735836812160 cf_adversarial.py:103] Target class: 4\n",
      "I0408 15:14:56.638131 140735836812160 cf_adversarial.py:104] Proba: 0.8738682866096497\n",
      "I0408 15:14:56.870846 140735836812160 cf_adversarial.py:103] Target class: 4\n",
      "I0408 15:14:56.874582 140735836812160 cf_adversarial.py:104] Proba: 0.9999998807907104\n",
      "I0408 15:14:57.106560 140735836812160 cf_adversarial.py:103] Target class: 4\n",
      "I0408 15:14:57.110284 140735836812160 cf_adversarial.py:104] Proba: 0.9999938011169434\n",
      "I0408 15:14:57.346108 140735836812160 cf_adversarial.py:103] Target class: 4\n",
      "I0408 15:14:57.349896 140735836812160 cf_adversarial.py:104] Proba: 0.9994671940803528\n",
      "I0408 15:14:57.581331 140735836812160 cf_adversarial.py:103] Target class: 4\n",
      "I0408 15:14:57.585091 140735836812160 cf_adversarial.py:104] Proba: 0.9654924869537354\n",
      "I0408 15:14:57.818477 140735836812160 cf_adversarial.py:103] Target class: 4\n",
      "I0408 15:14:57.822249 140735836812160 cf_adversarial.py:104] Proba: 0.9885802865028381\n",
      "I0408 15:14:58.053168 140735836812160 cf_adversarial.py:103] Target class: 4\n",
      "I0408 15:14:58.056943 140735836812160 cf_adversarial.py:104] Proba: 0.8400620818138123\n",
      "I0408 15:14:58.287618 140735836812160 cf_adversarial.py:103] Target class: 4\n",
      "I0408 15:14:58.291497 140735836812160 cf_adversarial.py:104] Proba: 1.0\n",
      "I0408 15:14:58.522342 140735836812160 cf_adversarial.py:103] Target class: 4\n",
      "I0408 15:14:58.526042 140735836812160 cf_adversarial.py:104] Proba: 0.9999998807907104\n",
      "I0408 15:14:58.758756 140735836812160 cf_adversarial.py:103] Target class: 4\n",
      "I0408 15:14:58.762542 140735836812160 cf_adversarial.py:104] Proba: 0.9999873638153076\n",
      "I0408 15:14:58.995630 140735836812160 cf_adversarial.py:103] Target class: 4\n",
      "I0408 15:14:58.999541 140735836812160 cf_adversarial.py:104] Proba: 0.9988709092140198\n",
      "I0408 15:14:59.231483 140735836812160 cf_adversarial.py:103] Target class: 4\n",
      "I0408 15:14:59.235254 140735836812160 cf_adversarial.py:104] Proba: 0.9233440160751343\n",
      "I0408 15:14:59.466940 140735836812160 cf_adversarial.py:103] Target class: 4\n",
      "I0408 15:14:59.470761 140735836812160 cf_adversarial.py:104] Proba: 0.9999549388885498\n",
      "I0408 15:14:59.703318 140735836812160 cf_adversarial.py:103] Target class: 4\n",
      "I0408 15:14:59.707010 140735836812160 cf_adversarial.py:104] Proba: 0.9927359819412231\n",
      "I0408 15:14:59.940010 140735836812160 cf_adversarial.py:103] Target class: 4\n",
      "I0408 15:14:59.943737 140735836812160 cf_adversarial.py:104] Proba: 0.7800694108009338\n",
      "I0408 15:15:00.177125 140735836812160 cf_adversarial.py:103] Target class: 4\n",
      "I0408 15:15:00.181300 140735836812160 cf_adversarial.py:104] Proba: 1.0\n",
      "I0408 15:15:00.413594 140735836812160 cf_adversarial.py:103] Target class: 4\n",
      "I0408 15:15:00.417295 140735836812160 cf_adversarial.py:104] Proba: 1.0\n",
      "I0408 15:15:00.649917 140735836812160 cf_adversarial.py:103] Target class: 4\n",
      "I0408 15:15:00.653669 140735836812160 cf_adversarial.py:104] Proba: 1.0\n",
      "I0408 15:15:00.890375 140735836812160 cf_adversarial.py:103] Target class: 4\n",
      "I0408 15:15:00.894055 140735836812160 cf_adversarial.py:104] Proba: 0.9999983310699463\n",
      "I0408 15:15:01.127629 140735836812160 cf_adversarial.py:103] Target class: 4\n",
      "I0408 15:15:01.131336 140735836812160 cf_adversarial.py:104] Proba: 0.9998548030853271\n",
      "I0408 15:15:01.365530 140735836812160 cf_adversarial.py:103] Target class: 4\n",
      "I0408 15:15:01.369410 140735836812160 cf_adversarial.py:104] Proba: 0.9868339896202087\n",
      "I0408 15:15:01.604506 140735836812160 cf_adversarial.py:103] Target class: 4\n",
      "I0408 15:15:01.608225 140735836812160 cf_adversarial.py:104] Proba: 0.8402956128120422\n",
      "I0408 15:15:01.842396 140735836812160 cf_adversarial.py:103] Target class: 4\n",
      "I0408 15:15:01.846184 140735836812160 cf_adversarial.py:104] Proba: 1.0\n",
      "I0408 15:15:02.084074 140735836812160 cf_adversarial.py:103] Target class: 4\n",
      "I0408 15:15:02.087882 140735836812160 cf_adversarial.py:104] Proba: 0.9999996423721313\n",
      "I0408 15:15:02.328135 140735836812160 cf_adversarial.py:103] Target class: 4\n",
      "I0408 15:15:02.332306 140735836812160 cf_adversarial.py:104] Proba: 0.9999462366104126\n",
      "I0408 15:15:02.574554 140735836812160 cf_adversarial.py:103] Target class: 4\n",
      "I0408 15:15:02.578277 140735836812160 cf_adversarial.py:104] Proba: 0.9926127195358276\n",
      "I0408 15:15:02.810411 140735836812160 cf_adversarial.py:103] Target class: 4\n",
      "I0408 15:15:02.814204 140735836812160 cf_adversarial.py:104] Proba: 0.7576637864112854\n",
      "I0408 15:15:03.062120 140735836812160 cf_adversarial.py:103] Target class: 4\n",
      "I0408 15:15:03.067300 140735836812160 cf_adversarial.py:104] Proba: 1.0\n",
      "I0408 15:15:03.316056 140735836812160 cf_adversarial.py:103] Target class: 4\n",
      "I0408 15:15:03.319885 140735836812160 cf_adversarial.py:104] Proba: 1.0\n",
      "I0408 15:15:03.566369 140735836812160 cf_adversarial.py:103] Target class: 4\n",
      "I0408 15:15:03.570281 140735836812160 cf_adversarial.py:104] Proba: 1.0\n",
      "I0408 15:15:03.822185 140735836812160 cf_adversarial.py:103] Target class: 4\n",
      "I0408 15:15:03.826094 140735836812160 cf_adversarial.py:104] Proba: 0.9999995231628418\n",
      "I0408 15:15:04.077361 140735836812160 cf_adversarial.py:103] Target class: 4\n",
      "I0408 15:15:04.081214 140735836812160 cf_adversarial.py:104] Proba: 0.9999433755874634\n",
      "I0408 15:15:04.330841 140735836812160 cf_adversarial.py:103] Target class: 4\n",
      "I0408 15:15:04.335129 140735836812160 cf_adversarial.py:104] Proba: 0.9929938912391663\n",
      "I0408 15:15:04.585457 140735836812160 cf_adversarial.py:103] Target class: 4\n",
      "I0408 15:15:04.589376 140735836812160 cf_adversarial.py:104] Proba: 0.7436317801475525\n",
      "I0408 15:15:04.836194 140735836812160 cf_adversarial.py:103] Target class: 4\n",
      "I0408 15:15:04.840265 140735836812160 cf_adversarial.py:104] Proba: 1.0\n",
      "I0408 15:15:05.086750 140735836812160 cf_adversarial.py:103] Target class: 4\n",
      "I0408 15:15:05.090800 140735836812160 cf_adversarial.py:104] Proba: 1.0\n",
      "I0408 15:15:05.339908 140735836812160 cf_adversarial.py:103] Target class: 4\n",
      "I0408 15:15:05.343762 140735836812160 cf_adversarial.py:104] Proba: 1.0\n",
      "I0408 15:15:05.591351 140735836812160 cf_adversarial.py:103] Target class: 4\n",
      "I0408 15:15:05.595239 140735836812160 cf_adversarial.py:104] Proba: 0.9999998807907104\n",
      "I0408 15:15:05.842334 140735836812160 cf_adversarial.py:103] Target class: 4\n",
      "I0408 15:15:05.846585 140735836812160 cf_adversarial.py:104] Proba: 0.9999700784683228\n",
      "I0408 15:15:06.095575 140735836812160 cf_adversarial.py:103] Target class: 4\n",
      "I0408 15:15:06.099375 140735836812160 cf_adversarial.py:104] Proba: 0.9956319332122803\n",
      "I0408 15:15:06.348537 140735836812160 cf_adversarial.py:103] Target class: 4\n",
      "I0408 15:15:06.352372 140735836812160 cf_adversarial.py:104] Proba: 0.7170550227165222\n",
      "I0408 15:15:06.601387 140735836812160 cf_adversarial.py:103] Target class: 4\n",
      "I0408 15:15:06.605302 140735836812160 cf_adversarial.py:104] Proba: 1.0\n",
      "I0408 15:15:06.859408 140735836812160 cf_adversarial.py:103] Target class: 4\n",
      "I0408 15:15:06.863283 140735836812160 cf_adversarial.py:104] Proba: 1.0\n",
      "I0408 15:15:07.109339 140735836812160 cf_adversarial.py:103] Target class: 4\n",
      "I0408 15:15:07.113264 140735836812160 cf_adversarial.py:104] Proba: 1.0\n",
      "I0408 15:15:07.386137 140735836812160 cf_adversarial.py:103] Target class: 4\n",
      "I0408 15:15:07.390490 140735836812160 cf_adversarial.py:104] Proba: 1.0\n",
      "I0408 15:15:07.675695 140735836812160 cf_adversarial.py:103] Target class: 4\n",
      "I0408 15:15:07.680604 140735836812160 cf_adversarial.py:104] Proba: 0.9999963045120239\n",
      "I0408 15:15:07.956432 140735836812160 cf_adversarial.py:103] Target class: 4\n",
      "I0408 15:15:07.961785 140735836812160 cf_adversarial.py:104] Proba: 0.9993768334388733\n",
      "I0408 15:15:08.268089 140735836812160 cf_adversarial.py:103] Target class: 4\n",
      "I0408 15:15:08.272341 140735836812160 cf_adversarial.py:104] Proba: 0.891649603843689\n",
      "I0408 15:15:08.581362 140735836812160 cf_adversarial.py:103] Target class: 4\n",
      "I0408 15:15:08.586703 140735836812160 cf_adversarial.py:104] Proba: 0.9999984502792358\n",
      "I0408 15:15:08.904489 140735836812160 cf_adversarial.py:103] Target class: 4\n"
     ]
    },
    {
     "name": "stderr",
     "output_type": "stream",
     "text": [
      "I0408 15:15:08.908797 140735836812160 cf_adversarial.py:104] Proba: 0.9986786246299744\n",
      "I0408 15:15:09.198768 140735836812160 cf_adversarial.py:103] Target class: 4\n",
      "I0408 15:15:09.203141 140735836812160 cf_adversarial.py:104] Proba: 0.6935998797416687\n",
      "I0408 15:15:09.519495 140735836812160 cf_adversarial.py:103] Target class: 4\n",
      "I0408 15:15:09.524055 140735836812160 cf_adversarial.py:104] Proba: 1.0\n",
      "I0408 15:15:09.811233 140735836812160 cf_adversarial.py:103] Target class: 4\n",
      "I0408 15:15:09.816631 140735836812160 cf_adversarial.py:104] Proba: 1.0\n",
      "I0408 15:15:10.109705 140735836812160 cf_adversarial.py:103] Target class: 4\n",
      "I0408 15:15:10.114184 140735836812160 cf_adversarial.py:104] Proba: 1.0\n",
      "I0408 15:15:10.404933 140735836812160 cf_adversarial.py:103] Target class: 4\n",
      "I0408 15:15:10.409307 140735836812160 cf_adversarial.py:104] Proba: 1.0\n",
      "I0408 15:15:10.700716 140735836812160 cf_adversarial.py:103] Target class: 4\n",
      "I0408 15:15:10.705403 140735836812160 cf_adversarial.py:104] Proba: 0.999998927116394\n",
      "I0408 15:15:11.014206 140735836812160 cf_adversarial.py:103] Target class: 4\n",
      "I0408 15:15:11.020436 140735836812160 cf_adversarial.py:104] Proba: 0.9997518658638\n",
      "I0408 15:15:11.341352 140735836812160 cf_adversarial.py:103] Target class: 4\n",
      "I0408 15:15:11.346229 140735836812160 cf_adversarial.py:104] Proba: 0.9338861703872681\n",
      "I0408 15:15:11.662333 140735836812160 cf_adversarial.py:103] Target class: 4\n",
      "I0408 15:15:11.668047 140735836812160 cf_adversarial.py:104] Proba: 0.9994175434112549\n",
      "I0408 15:15:11.973414 140735836812160 cf_adversarial.py:103] Target class: 4\n",
      "I0408 15:15:11.978485 140735836812160 cf_adversarial.py:104] Proba: 0.6278406381607056\n",
      "I0408 15:15:12.293709 140735836812160 cf_adversarial.py:103] Target class: 4\n",
      "I0408 15:15:12.299216 140735836812160 cf_adversarial.py:104] Proba: 1.0\n",
      "I0408 15:15:12.622141 140735836812160 cf_adversarial.py:103] Target class: 4\n",
      "I0408 15:15:12.627979 140735836812160 cf_adversarial.py:104] Proba: 1.0\n",
      "I0408 15:15:12.964837 140735836812160 cf_adversarial.py:103] Target class: 4\n",
      "I0408 15:15:12.969582 140735836812160 cf_adversarial.py:104] Proba: 1.0\n",
      "I0408 15:15:13.322619 140735836812160 cf_adversarial.py:103] Target class: 4\n",
      "I0408 15:15:13.327466 140735836812160 cf_adversarial.py:104] Proba: 1.0\n",
      "I0408 15:15:13.696106 140735836812160 cf_adversarial.py:103] Target class: 4\n",
      "I0408 15:15:13.701994 140735836812160 cf_adversarial.py:104] Proba: 1.0\n",
      "I0408 15:15:14.042020 140735836812160 cf_adversarial.py:103] Target class: 4\n",
      "I0408 15:15:14.049349 140735836812160 cf_adversarial.py:104] Proba: 0.9999994039535522\n",
      "I0408 15:15:14.408585 140735836812160 cf_adversarial.py:103] Target class: 4\n",
      "I0408 15:15:14.414026 140735836812160 cf_adversarial.py:104] Proba: 0.9998608827590942\n",
      "I0408 15:15:14.747843 140735836812160 cf_adversarial.py:103] Target class: 4\n",
      "I0408 15:15:14.752748 140735836812160 cf_adversarial.py:104] Proba: 0.9501830339431763\n",
      "I0408 15:15:15.090576 140735836812160 cf_adversarial.py:103] Target class: 4\n",
      "I0408 15:15:15.095391 140735836812160 cf_adversarial.py:104] Proba: 0.992784857749939\n",
      "I0408 15:15:15.447172 140735836812160 cf_adversarial.py:103] Target class: 4\n",
      "I0408 15:15:15.451983 140735836812160 cf_adversarial.py:104] Proba: 0.29697906970977783\n",
      "I0408 15:15:15.782693 140735836812160 cf_adversarial.py:103] Target class: 4\n",
      "I0408 15:15:15.787686 140735836812160 cf_adversarial.py:104] Proba: 1.0\n",
      "I0408 15:15:16.131836 140735836812160 cf_adversarial.py:103] Target class: 4\n",
      "I0408 15:15:16.137434 140735836812160 cf_adversarial.py:104] Proba: 1.0\n",
      "I0408 15:15:16.490991 140735836812160 cf_adversarial.py:103] Target class: 4\n",
      "I0408 15:15:16.495650 140735836812160 cf_adversarial.py:104] Proba: 1.0\n",
      "I0408 15:15:16.829691 140735836812160 cf_adversarial.py:103] Target class: 4\n",
      "I0408 15:15:16.834801 140735836812160 cf_adversarial.py:104] Proba: 1.0\n",
      "I0408 15:15:17.177693 140735836812160 cf_adversarial.py:103] Target class: 4\n",
      "I0408 15:15:17.182684 140735836812160 cf_adversarial.py:104] Proba: 1.0\n",
      "I0408 15:15:17.516124 140735836812160 cf_adversarial.py:103] Target class: 4\n",
      "I0408 15:15:17.520968 140735836812160 cf_adversarial.py:104] Proba: 1.0\n",
      "I0408 15:15:17.842376 140735836812160 cf_adversarial.py:103] Target class: 4\n",
      "I0408 15:15:17.847563 140735836812160 cf_adversarial.py:104] Proba: 1.0\n",
      "I0408 15:15:18.165668 140735836812160 cf_adversarial.py:103] Target class: 4\n",
      "I0408 15:15:18.170432 140735836812160 cf_adversarial.py:104] Proba: 1.0\n",
      "I0408 15:15:18.489373 140735836812160 cf_adversarial.py:103] Target class: 4\n",
      "I0408 15:15:18.494083 140735836812160 cf_adversarial.py:104] Proba: 1.0\n",
      "I0408 15:15:18.814754 140735836812160 cf_adversarial.py:103] Target class: 4\n",
      "I0408 15:15:18.819546 140735836812160 cf_adversarial.py:104] Proba: 1.0\n",
      "I0408 15:15:19.139470 140735836812160 cf_adversarial.py:103] Target class: 4\n",
      "I0408 15:15:19.144217 140735836812160 cf_adversarial.py:104] Proba: 1.0\n",
      "I0408 15:15:19.463541 140735836812160 cf_adversarial.py:103] Target class: 4\n",
      "I0408 15:15:19.468357 140735836812160 cf_adversarial.py:104] Proba: 0.9999996423721313\n",
      "I0408 15:15:19.788807 140735836812160 cf_adversarial.py:103] Target class: 4\n",
      "I0408 15:15:19.793565 140735836812160 cf_adversarial.py:104] Proba: 0.9999347925186157\n",
      "I0408 15:15:20.116091 140735836812160 cf_adversarial.py:103] Target class: 4\n",
      "I0408 15:15:20.120886 140735836812160 cf_adversarial.py:104] Proba: 0.9750744104385376\n",
      "I0408 15:15:20.442876 140735836812160 cf_adversarial.py:103] Target class: 4\n",
      "I0408 15:15:20.447695 140735836812160 cf_adversarial.py:104] Proba: 0.8237543702125549\n",
      "I0408 15:15:20.767158 140735836812160 cf_adversarial.py:103] Target class: 4\n",
      "I0408 15:15:20.771941 140735836812160 cf_adversarial.py:104] Proba: 1.0\n",
      "I0408 15:15:21.092163 140735836812160 cf_adversarial.py:103] Target class: 4\n",
      "I0408 15:15:21.097100 140735836812160 cf_adversarial.py:104] Proba: 0.9999974966049194\n",
      "I0408 15:15:21.418872 140735836812160 cf_adversarial.py:103] Target class: 4\n",
      "I0408 15:15:21.423725 140735836812160 cf_adversarial.py:104] Proba: 0.9949321150779724\n",
      "I0408 15:15:21.744935 140735836812160 cf_adversarial.py:103] Target class: 4\n",
      "I0408 15:15:21.749919 140735836812160 cf_adversarial.py:104] Proba: 0.28594887256622314\n",
      "I0408 15:15:22.071483 140735836812160 cf_adversarial.py:103] Target class: 4\n",
      "I0408 15:15:22.076297 140735836812160 cf_adversarial.py:104] Proba: 1.0\n",
      "I0408 15:15:22.081480 140735836812160 cf_adversarial.py:277] Minimization time: 47.97173285484314\n",
      "I0408 15:15:22.082692 140735836812160 cf_adversarial.py:283] Counterfactual instance 0 of 0 generated\n",
      "I0408 15:15:22.084442 140735836812160 cf_adversarial.py:285] Original instance predicted class: 9 with probability [0.9822348]:\n",
      "I0408 15:15:22.085715 140735836812160 cf_adversarial.py:286] Countfact instance original class probability: [0.]\n",
      "I0408 15:15:22.087025 140735836812160 cf_adversarial.py:288] Countfact instance predicted class: 4 with probability [1.]:\n",
      "I0408 15:15:22.088278 140735836812160 cf_adversarial.py:289] Original instance shape (1, 28, 28, 1)\n"
     ]
    }
   ],
   "source": [
    "expl=cf.explain(X, nb_instances=1,initialization=None)"
   ]
  },
  {
   "cell_type": "code",
   "execution_count": 133,
   "metadata": {},
   "outputs": [],
   "source": [
    "x_min=cf.cf_instances['vector'][0]"
   ]
  },
  {
   "cell_type": "code",
   "execution_count": 134,
   "metadata": {},
   "outputs": [
    {
     "name": "stdout",
     "output_type": "stream",
     "text": [
      "[[1.1420827e-10 1.0617840e-07 6.9988083e-08 1.0176440e-05 1.2435452e-02\n",
      "  9.8999976e-07 1.7569269e-12 4.3955473e-03 9.2290936e-04 9.8223478e-01]]\n"
     ]
    },
    {
     "data": {
      "text/plain": [
       "<matplotlib.image.AxesImage at 0x1c76f73e10>"
      ]
     },
     "execution_count": 134,
     "metadata": {},
     "output_type": "execute_result"
    },
    {
     "name": "stderr",
     "output_type": "stream",
     "text": [
      "I0408 15:15:58.974288 140735836812160 _base.py:2515] update_title_pos\n",
      "I0408 15:15:59.006496 140735836812160 _base.py:2515] update_title_pos\n",
      "I0408 15:15:59.035305 140735836812160 _base.py:2515] update_title_pos\n",
      "I0408 15:15:59.062095 140735836812160 _base.py:2515] update_title_pos\n",
      "I0408 15:15:59.077378 140735836812160 _base.py:2515] update_title_pos\n"
     ]
    },
    {
     "data": {
      "image/png": "[encoded data removed]",
      "text/plain": [
       "<Figure size 432x288 with 1 Axes>"
      ]
     },
     "metadata": {
      "needs_background": "light"
     },
     "output_type": "display_data"
    }
   ],
   "source": [
    "print(model.predict(X.reshape((1,)+X.shape)))\n",
    "imshow(X.reshape(28,28),cmap='Greys')"
   ]
  },
  {
   "cell_type": "code",
   "execution_count": 135,
   "metadata": {},
   "outputs": [
    {
     "name": "stdout",
     "output_type": "stream",
     "text": [
      "[[0.0000000e+00 2.4597594e-28 1.6178954e-35 0.0000000e+00 1.0000000e+00\n",
      "  2.7857519e-36 1.3112133e-25 6.1637452e-28 8.2081678e-29 0.0000000e+00]]\n"
     ]
    },
    {
     "data": {
      "text/plain": [
       "<matplotlib.image.AxesImage at 0x1c7705e240>"
      ]
     },
     "execution_count": 135,
     "metadata": {},
     "output_type": "execute_result"
    },
    {
     "name": "stderr",
     "output_type": "stream",
     "text": [
      "I0408 15:15:59.566380 140735836812160 _base.py:2515] update_title_pos\n",
      "I0408 15:15:59.598315 140735836812160 _base.py:2515] update_title_pos\n",
      "I0408 15:15:59.626708 140735836812160 _base.py:2515] update_title_pos\n",
      "I0408 15:15:59.650999 140735836812160 _base.py:2515] update_title_pos\n",
      "I0408 15:15:59.664455 140735836812160 _base.py:2515] update_title_pos\n"
     ]
    },
    {
     "data": {
      "image/png": "[encoded data removed]",
      "text/plain": [
       "<Figure size 432x288 with 1 Axes>"
      ]
     },
     "metadata": {
      "needs_background": "light"
     },
     "output_type": "display_data"
    }
   ],
   "source": [
    "print(model.predict(x_min))\n",
    "imshow(x_min.reshape(28,28),cmap='Greys')"
   ]
  },
  {
   "cell_type": "code",
   "execution_count": null,
   "metadata": {},
   "outputs": [],
   "source": []
  },
  {
   "cell_type": "code",
   "execution_count": null,
   "metadata": {},
   "outputs": [],
   "source": [
    "X.shape"
   ]
  },
  {
   "cell_type": "code",
   "execution_count": 41,
   "metadata": {},
   "outputs": [
    {
     "data": {
      "text/plain": [
       "784"
      ]
     },
     "execution_count": 41,
     "metadata": {},
     "output_type": "execute_result"
    }
   ],
   "source": [
    "len(cf.f_ranges)"
   ]
  },
  {
   "cell_type": "code",
   "execution_count": 46,
   "metadata": {},
   "outputs": [],
   "source": [
    "initial_instace=np.random.uniform(low=[t[0] for t in cf.f_ranges],high=[t[1] for t in cf.f_ranges],size=X.flatten().shape).reshape(X.shape)"
   ]
  },
  {
   "cell_type": "code",
   "execution_count": 48,
   "metadata": {},
   "outputs": [
    {
     "data": {
      "text/plain": [
       "(28, 28, 1)"
      ]
     },
     "execution_count": 48,
     "metadata": {},
     "output_type": "execute_result"
    }
   ],
   "source": [
    "initial_instace.shape"
   ]
  },
  {
   "cell_type": "code",
   "execution_count": null,
   "metadata": {},
   "outputs": [],
   "source": []
  }
 ],
 "metadata": {
  "kernelspec": {
   "display_name": "Python 3",
   "language": "python",
   "name": "python3"
  },
  "language_info": {
   "codemirror_mode": {
    "name": "ipython",
    "version": 3
   },
   "file_extension": ".py",
   "mimetype": "text/x-python",
   "name": "python",
   "nbconvert_exporter": "python",
   "pygments_lexer": "ipython3",
   "version": "3.7.1"
  }
 },
 "nbformat": 4,
 "nbformat_minor": 2
}
